{
 "cells": [
  {
   "cell_type": "code",
   "execution_count": 31,
   "id": "2afa08c0",
   "metadata": {},
   "outputs": [
    {
     "name": "stdout",
     "output_type": "stream",
     "text": [
      "[[False, False, True, False, False, True, False, True, True, True, True, True, True, True, True, True], [False, True, False, False, True, False, False, True, True, True, True, False, False, True, True, True], [False, False, True, True, True, False, True, True, True, False, True, True, False, True, True, True]]\n"
     ]
    }
   ],
   "source": [
    "import random\n",
    "\n",
    "kick = [random.choice([True, False]) for _ in range(16)]\n",
    "snare = [random.choice([True, False]) for _ in range(16)]\n",
    "charles = [random.choice([True, False]) for _ in range(16)]\n",
    "\n",
    "user_input = [kick, snare, charles]\n",
    "print(user_input)\n",
    "\n",
    "\n",
    "\n",
    "\n",
    "\n"
   ]
  },
  {
   "cell_type": "code",
   "execution_count": 32,
   "id": "be88652e",
   "metadata": {},
   "outputs": [
    {
     "name": "stdout",
     "output_type": "stream",
     "text": [
      "[['r', '_', '36', 'r', '_', '36', 'r', '36', '36', '36', '36', '36', '36', '36', '36', '36'], ['r', '38', 'r', '_', '38', 'r', '_', '38', '38', '38', '38', 'r', '_', '38', '38', '38'], ['r', '_', '42', '42', '42', 'r', '42', '42', '42', 'r', '42', '42', 'r', '42', '42', '42']]\n"
     ]
    }
   ],
   "source": [
    "def translate_input(user_input):\n",
    "    \n",
    "    \n",
    "    #Create simbols:\n",
    "    send_kick_data = []\n",
    "    send_snare_data = []\n",
    "    send_charles_data = []\n",
    "    for lista, sound in enumerate(user_input):\n",
    "        for index, data in enumerate(sound):\n",
    "            if lista == 0:\n",
    "                if data == True:\n",
    "                    send_kick_data.append(\"36\")\n",
    "                else:\n",
    "                    send_kick_data.append(\"r\")\n",
    "            elif lista == 1:\n",
    "                if data == True:\n",
    "                    send_snare_data.append(\"38\")\n",
    "                else:\n",
    "                    send_snare_data.append(\"r\")\n",
    "            elif lista == 2:\n",
    "                if data == True:\n",
    "                    send_charles_data.append(\"42\")\n",
    "                else:\n",
    "                    send_charles_data.append(\"r\")\n",
    "                    \n",
    "    user_input = [send_kick_data, send_snare_data, send_charles_data]\n",
    "\n",
    "    \n",
    "    #Create underscores\"_\"\n",
    "    modified_input = []\n",
    "    for lista in user_input:\n",
    "        modified_lista = []\n",
    "        prev_element = None\n",
    "        count_r = 0\n",
    "\n",
    "        for element in lista:\n",
    "            if element == \"r\":\n",
    "                count_r += 1\n",
    "                if count_r == 1:\n",
    "                    modified_lista.append(element)\n",
    "                else:\n",
    "                    modified_lista.append(\"_\")\n",
    "            else:\n",
    "                modified_lista.append(element)\n",
    "                count_r = 0\n",
    "\n",
    "        modified_input.append(modified_lista)\n",
    "\n",
    "    return modified_input\n",
    "\n",
    "user_input = translate_input(user_input)\n",
    "print(user_input)"
   ]
  },
  {
   "cell_type": "code",
   "execution_count": 27,
   "id": "7beefc01",
   "metadata": {},
   "outputs": [],
   "source": [
    "mapping={\"36\":0, \"_\":1,\"r\":2,\"38\":3,\"42\":4}"
   ]
  },
  {
   "cell_type": "code",
   "execution_count": 28,
   "id": "e350a978",
   "metadata": {},
   "outputs": [
    {
     "name": "stdout",
     "output_type": "stream",
     "text": [
      "['r', '36', 'r', '36', 'r', '36', 'r', '_', '36', 'r', '36', '36', 'r', '_', '_', '36']\n"
     ]
    }
   ],
   "source": [
    "print(user_input[0])"
   ]
  },
  {
   "cell_type": "code",
   "execution_count": 29,
   "id": "a42befdb",
   "metadata": {},
   "outputs": [
    {
     "name": "stdout",
     "output_type": "stream",
     "text": [
      "[2, 0, 2, 0, 2, 0, 2, 1, 0, 2, 0, 0, 2, 1, 1, 0]\n"
     ]
    }
   ],
   "source": [
    "int_songs=[]\n",
    "for symbol in user_input[0]:\n",
    "    int_songs.append(mapping[symbol])\n",
    "print(int_songs)"
   ]
  },
  {
   "cell_type": "code",
   "execution_count": 38,
   "id": "f4967d31",
   "metadata": {},
   "outputs": [
    {
     "name": "stdout",
     "output_type": "stream",
     "text": [
      "[[2, 1, 0, 2, 1, 0, 2, 0, 0, 0, 0, 0, 0, 0, 0, 0], [2, 3, 2, 1, 3, 2, 1, 3, 3, 3, 3, 2, 1, 3, 3, 3], [2, 1, 4, 4, 4, 2, 4, 4, 4, 2, 4, 4, 2, 4, 4, 4]]\n"
     ]
    }
   ],
   "source": [
    "int_songs2 = [[],[],[]] \n",
    "for index, instrument in enumerate(user_input):\n",
    "    for symbol in instrument:\n",
    "        int_songs2[index].append(mapping[symbol])\n",
    "        \n",
    "print(int_songs2)"
   ]
  },
  {
   "cell_type": "code",
   "execution_count": null,
   "id": "4fca8f58",
   "metadata": {},
   "outputs": [],
   "source": []
  },
  {
   "cell_type": "code",
   "execution_count": 39,
   "id": "8ada843f",
   "metadata": {},
   "outputs": [],
   "source": [
    "def translate_input(user_input):\n",
    "\n",
    "    #Create simbols:  In a future cambiar por una llamada a un mapping\n",
    "    send_kick_data = []\n",
    "    send_snare_data = []\n",
    "    send_charles_data = []\n",
    "    for lista, sound in enumerate(user_input):\n",
    "        for index, data in enumerate(sound):\n",
    "            if lista == 0:\n",
    "                if data == True:\n",
    "                    send_kick_data.append(\"36\")\n",
    "                else:\n",
    "                    send_kick_data.append(\"r\")\n",
    "            elif lista == 1:\n",
    "                if data == True:\n",
    "                    send_snare_data.append(\"38\")\n",
    "                else:\n",
    "                    send_snare_data.append(\"r\")\n",
    "            elif lista == 2:\n",
    "                if data == True:\n",
    "                    send_charles_data.append(\"42\")\n",
    "                else:\n",
    "                    send_charles_data.append(\"r\")\n",
    "\n",
    "    user_input = [send_kick_data, send_snare_data, send_charles_data]\n",
    "\n",
    "\n",
    "    #Create underscores\"_\"\n",
    "    modified_input = []\n",
    "    for lista in user_input:\n",
    "        modified_lista = []\n",
    "        prev_element = None\n",
    "        count_r = 0\n",
    "\n",
    "        for element in lista:\n",
    "            if element == \"r\":\n",
    "                count_r += 1\n",
    "                if count_r == 1:\n",
    "                    modified_lista.append(element)\n",
    "                else:\n",
    "                    modified_lista.append(\"_\")\n",
    "            else:\n",
    "                modified_lista.append(element)\n",
    "                count_r = 0\n",
    "\n",
    "        modified_input.append(modified_lista)\n",
    "\n",
    "    return modified_input"
   ]
  },
  {
   "cell_type": "code",
   "execution_count": 47,
   "id": "241cd9f9",
   "metadata": {},
   "outputs": [],
   "source": [
    "import os\n",
    "import json\n",
    "\n",
    "def map_seed(seed,mapping):\n",
    "\n",
    "    mapping=mapping\n",
    "\n",
    "    int_songs2 = [[],[],[]]\n",
    "    for index, instrument in enumerate(seed):\n",
    "        for symbol in instrument:\n",
    "            int_songs2[index].append(mapping[symbol])\n",
    "\n",
    "    return int_songs2\n"
   ]
  },
  {
   "cell_type": "code",
   "execution_count": 48,
   "id": "98f7609f",
   "metadata": {},
   "outputs": [],
   "source": [
    "user_input3=[[False, False, True, False, False, True, False, True, True, True, True, True, True, True, True, True], [False, True, False, False, True, False, False, True, True, True, True, False, False, True, True, True], [False, False, True, True, True, False, True, True, True, False, True, True, False, True, True, True]]"
   ]
  },
  {
   "cell_type": "code",
   "execution_count": 49,
   "id": "0c5531c7",
   "metadata": {},
   "outputs": [],
   "source": [
    "mapping={\"36\":0, \"_\":1,\"r\":2,\"38\":3,\"42\":4}"
   ]
  },
  {
   "cell_type": "code",
   "execution_count": 61,
   "id": "15144e83",
   "metadata": {},
   "outputs": [
    {
     "name": "stdout",
     "output_type": "stream",
     "text": [
      "[[2, 1, 0, 2, 1, 0, 2, 0, 0, 0, 0, 0, 0, 0, 0, 0], [2, 3, 2, 1, 3, 2, 1, 3, 3, 3, 3, 2, 1, 3, 3, 3], [2, 1, 4, 4, 4, 2, 4, 4, 4, 2, 4, 4, 2, 4, 4, 4]]\n"
     ]
    }
   ],
   "source": [
    "seed=translate_input(user_input3)\n",
    "seed_mapped=map_seed(seed,mapping)\n",
    "print(seed_mapped)"
   ]
  },
  {
   "cell_type": "code",
   "execution_count": 54,
   "id": "bb099b00",
   "metadata": {},
   "outputs": [],
   "source": [
    "import keras"
   ]
  },
  {
   "cell_type": "code",
   "execution_count": null,
   "id": "98376951",
   "metadata": {},
   "outputs": [],
   "source": [
    "seed_mapped=[[2, 1, 0, 2, 1, 0, 2, 0, 0, 0, 0, 0, 0, 0, 0, 0], [2, 3, 2, 1, 3, 2, 1, 3, 3, 3, 3, 2, 1, 3, 3, 3], [2, 1, 4, 4, 4, 2, 4, 4, 4, 2, 4, 4, 2, 4, 4, 4]]"
   ]
  },
  {
   "cell_type": "code",
   "execution_count": 64,
   "id": "4769da38",
   "metadata": {},
   "outputs": [],
   "source": [
    "import numpy as np\n",
    "for instrument in seed_mapped:\n",
    "    # Convertir la lista a un array de numpy\n",
    "    instrument_array = np.array(instrument)\n",
    "    \n",
    "    # Obtener el número de clases\n",
    "    num_classes = len(mapping)\n",
    "    \n",
    "    # Realizar el One-Hot Encoding\n",
    "    onehot_encoded = np.eye(num_classes)[instrument_array]\n",
    "    \n",
    "    # Agregar el resultado a la lista\n",
    "    onehot_seeds.append(onehot_encoded)\n",
    "\n",
    "\n",
    "            "
   ]
  },
  {
   "cell_type": "code",
   "execution_count": 91,
   "id": "7bee1f20",
   "metadata": {},
   "outputs": [],
   "source": [
    "seed_ohe=[[],[],[]]\n",
    "for index,instrument in enumerate(seed_mapped):\n",
    "    for element in instrument:\n",
    "        seed_ohe[index].append(keras.utils.to_categorical(element,num_classes=len(mapping), dtype=\"int32\"))\n",
    "seed_ohe=np.array([seed_ohe])"
   ]
  },
  {
   "cell_type": "code",
   "execution_count": 92,
   "id": "35b750bf",
   "metadata": {},
   "outputs": [
    {
     "data": {
      "text/plain": [
       "(1, 3, 16, 5)"
      ]
     },
     "execution_count": 92,
     "metadata": {},
     "output_type": "execute_result"
    }
   ],
   "source": [
    "seed_ohe.shape"
   ]
  },
  {
   "cell_type": "code",
   "execution_count": 95,
   "id": "1b1c4dd7",
   "metadata": {},
   "outputs": [],
   "source": [
    "seed_ohe=np.transpose(seed_ohe,(0,2,1,3))   "
   ]
  },
  {
   "cell_type": "code",
   "execution_count": 94,
   "id": "945d1bdf",
   "metadata": {},
   "outputs": [
    {
     "data": {
      "text/plain": [
       "(1, 3, 16, 5)"
      ]
     },
     "execution_count": 94,
     "metadata": {},
     "output_type": "execute_result"
    }
   ],
   "source": [
    "seed_ohe.shape"
   ]
  },
  {
   "cell_type": "code",
   "execution_count": null,
   "id": "dfb8ddc6",
   "metadata": {},
   "outputs": [],
   "source": [
    "seed_ohe=seed_ohe.reshape()"
   ]
  },
  {
   "cell_type": "code",
   "execution_count": 71,
   "id": "a957e13b",
   "metadata": {},
   "outputs": [
    {
     "data": {
      "text/plain": [
       "[array([[0., 0., 1., 0., 0.],\n",
       "        [0., 1., 0., 0., 0.],\n",
       "        [1., 0., 0., 0., 0.],\n",
       "        [0., 0., 1., 0., 0.],\n",
       "        [0., 1., 0., 0., 0.],\n",
       "        [1., 0., 0., 0., 0.],\n",
       "        [0., 0., 1., 0., 0.],\n",
       "        [1., 0., 0., 0., 0.],\n",
       "        [1., 0., 0., 0., 0.],\n",
       "        [1., 0., 0., 0., 0.],\n",
       "        [1., 0., 0., 0., 0.],\n",
       "        [1., 0., 0., 0., 0.],\n",
       "        [1., 0., 0., 0., 0.],\n",
       "        [1., 0., 0., 0., 0.],\n",
       "        [1., 0., 0., 0., 0.],\n",
       "        [1., 0., 0., 0., 0.]], dtype=float32),\n",
       " array([[0., 0., 1., 0., 0.],\n",
       "        [0., 0., 0., 1., 0.],\n",
       "        [0., 0., 1., 0., 0.],\n",
       "        [0., 1., 0., 0., 0.],\n",
       "        [0., 0., 0., 1., 0.],\n",
       "        [0., 0., 1., 0., 0.],\n",
       "        [0., 1., 0., 0., 0.],\n",
       "        [0., 0., 0., 1., 0.],\n",
       "        [0., 0., 0., 1., 0.],\n",
       "        [0., 0., 0., 1., 0.],\n",
       "        [0., 0., 0., 1., 0.],\n",
       "        [0., 0., 1., 0., 0.],\n",
       "        [0., 1., 0., 0., 0.],\n",
       "        [0., 0., 0., 1., 0.],\n",
       "        [0., 0., 0., 1., 0.],\n",
       "        [0., 0., 0., 1., 0.]], dtype=float32),\n",
       " array([[0., 0., 1., 0., 0.],\n",
       "        [0., 1., 0., 0., 0.],\n",
       "        [0., 0., 0., 0., 1.],\n",
       "        [0., 0., 0., 0., 1.],\n",
       "        [0., 0., 0., 0., 1.],\n",
       "        [0., 0., 1., 0., 0.],\n",
       "        [0., 0., 0., 0., 1.],\n",
       "        [0., 0., 0., 0., 1.],\n",
       "        [0., 0., 0., 0., 1.],\n",
       "        [0., 0., 1., 0., 0.],\n",
       "        [0., 0., 0., 0., 1.],\n",
       "        [0., 0., 0., 0., 1.],\n",
       "        [0., 0., 1., 0., 0.],\n",
       "        [0., 0., 0., 0., 1.],\n",
       "        [0., 0., 0., 0., 1.],\n",
       "        [0., 0., 0., 0., 1.]], dtype=float32),\n",
       " array([[0., 0., 1., 0., 0.],\n",
       "        [0., 1., 0., 0., 0.],\n",
       "        [1., 0., 0., 0., 0.],\n",
       "        [0., 0., 1., 0., 0.],\n",
       "        [0., 1., 0., 0., 0.],\n",
       "        [1., 0., 0., 0., 0.],\n",
       "        [0., 0., 1., 0., 0.],\n",
       "        [1., 0., 0., 0., 0.],\n",
       "        [1., 0., 0., 0., 0.],\n",
       "        [1., 0., 0., 0., 0.],\n",
       "        [1., 0., 0., 0., 0.],\n",
       "        [1., 0., 0., 0., 0.],\n",
       "        [1., 0., 0., 0., 0.],\n",
       "        [1., 0., 0., 0., 0.],\n",
       "        [1., 0., 0., 0., 0.],\n",
       "        [1., 0., 0., 0., 0.]]),\n",
       " array([[0., 0., 1., 0., 0.],\n",
       "        [0., 0., 0., 1., 0.],\n",
       "        [0., 0., 1., 0., 0.],\n",
       "        [0., 1., 0., 0., 0.],\n",
       "        [0., 0., 0., 1., 0.],\n",
       "        [0., 0., 1., 0., 0.],\n",
       "        [0., 1., 0., 0., 0.],\n",
       "        [0., 0., 0., 1., 0.],\n",
       "        [0., 0., 0., 1., 0.],\n",
       "        [0., 0., 0., 1., 0.],\n",
       "        [0., 0., 0., 1., 0.],\n",
       "        [0., 0., 1., 0., 0.],\n",
       "        [0., 1., 0., 0., 0.],\n",
       "        [0., 0., 0., 1., 0.],\n",
       "        [0., 0., 0., 1., 0.],\n",
       "        [0., 0., 0., 1., 0.]]),\n",
       " array([[0., 0., 1., 0., 0.],\n",
       "        [0., 1., 0., 0., 0.],\n",
       "        [0., 0., 0., 0., 1.],\n",
       "        [0., 0., 0., 0., 1.],\n",
       "        [0., 0., 0., 0., 1.],\n",
       "        [0., 0., 1., 0., 0.],\n",
       "        [0., 0., 0., 0., 1.],\n",
       "        [0., 0., 0., 0., 1.],\n",
       "        [0., 0., 0., 0., 1.],\n",
       "        [0., 0., 1., 0., 0.],\n",
       "        [0., 0., 0., 0., 1.],\n",
       "        [0., 0., 0., 0., 1.],\n",
       "        [0., 0., 1., 0., 0.],\n",
       "        [0., 0., 0., 0., 1.],\n",
       "        [0., 0., 0., 0., 1.],\n",
       "        [0., 0., 0., 0., 1.]]),\n",
       " array([[0., 0., 1., 0., 0.],\n",
       "        [0., 1., 0., 0., 0.],\n",
       "        [1., 0., 0., 0., 0.],\n",
       "        [0., 0., 1., 0., 0.],\n",
       "        [0., 1., 0., 0., 0.],\n",
       "        [1., 0., 0., 0., 0.],\n",
       "        [0., 0., 1., 0., 0.],\n",
       "        [1., 0., 0., 0., 0.],\n",
       "        [1., 0., 0., 0., 0.],\n",
       "        [1., 0., 0., 0., 0.],\n",
       "        [1., 0., 0., 0., 0.],\n",
       "        [1., 0., 0., 0., 0.],\n",
       "        [1., 0., 0., 0., 0.],\n",
       "        [1., 0., 0., 0., 0.],\n",
       "        [1., 0., 0., 0., 0.],\n",
       "        [1., 0., 0., 0., 0.]]),\n",
       " array([[0., 0., 1., 0., 0.],\n",
       "        [0., 0., 0., 1., 0.],\n",
       "        [0., 0., 1., 0., 0.],\n",
       "        [0., 1., 0., 0., 0.],\n",
       "        [0., 0., 0., 1., 0.],\n",
       "        [0., 0., 1., 0., 0.],\n",
       "        [0., 1., 0., 0., 0.],\n",
       "        [0., 0., 0., 1., 0.],\n",
       "        [0., 0., 0., 1., 0.],\n",
       "        [0., 0., 0., 1., 0.],\n",
       "        [0., 0., 0., 1., 0.],\n",
       "        [0., 0., 1., 0., 0.],\n",
       "        [0., 1., 0., 0., 0.],\n",
       "        [0., 0., 0., 1., 0.],\n",
       "        [0., 0., 0., 1., 0.],\n",
       "        [0., 0., 0., 1., 0.]]),\n",
       " array([[0., 0., 1., 0., 0.],\n",
       "        [0., 1., 0., 0., 0.],\n",
       "        [0., 0., 0., 0., 1.],\n",
       "        [0., 0., 0., 0., 1.],\n",
       "        [0., 0., 0., 0., 1.],\n",
       "        [0., 0., 1., 0., 0.],\n",
       "        [0., 0., 0., 0., 1.],\n",
       "        [0., 0., 0., 0., 1.],\n",
       "        [0., 0., 0., 0., 1.],\n",
       "        [0., 0., 1., 0., 0.],\n",
       "        [0., 0., 0., 0., 1.],\n",
       "        [0., 0., 0., 0., 1.],\n",
       "        [0., 0., 1., 0., 0.],\n",
       "        [0., 0., 0., 0., 1.],\n",
       "        [0., 0., 0., 0., 1.],\n",
       "        [0., 0., 0., 0., 1.]])]"
      ]
     },
     "execution_count": 71,
     "metadata": {},
     "output_type": "execute_result"
    }
   ],
   "source": [
    "onehot_seeds"
   ]
  },
  {
   "cell_type": "code",
   "execution_count": null,
   "id": "be906e4c",
   "metadata": {},
   "outputs": [],
   "source": []
  }
 ],
 "metadata": {
  "kernelspec": {
   "display_name": "Python 3 (ipykernel)",
   "language": "python",
   "name": "python3"
  },
  "language_info": {
   "codemirror_mode": {
    "name": "ipython",
    "version": 3
   },
   "file_extension": ".py",
   "mimetype": "text/x-python",
   "name": "python",
   "nbconvert_exporter": "python",
   "pygments_lexer": "ipython3",
   "version": "3.10.6"
  },
  "toc": {
   "base_numbering": 1,
   "nav_menu": {},
   "number_sections": true,
   "sideBar": true,
   "skip_h1_title": false,
   "title_cell": "Table of Contents",
   "title_sidebar": "Contents",
   "toc_cell": false,
   "toc_position": {},
   "toc_section_display": true,
   "toc_window_display": false
  }
 },
 "nbformat": 4,
 "nbformat_minor": 5
}
