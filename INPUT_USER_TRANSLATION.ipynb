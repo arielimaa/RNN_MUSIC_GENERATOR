{
 "cells": [
  {
   "cell_type": "code",
   "execution_count": 31,
   "id": "2afa08c0",
   "metadata": {},
   "outputs": [
    {
     "name": "stdout",
     "output_type": "stream",
     "text": [
      "[[False, False, True, False, False, True, False, True, True, True, True, True, True, True, True, True], [False, True, False, False, True, False, False, True, True, True, True, False, False, True, True, True], [False, False, True, True, True, False, True, True, True, False, True, True, False, True, True, True]]\n"
     ]
    }
   ],
   "source": [
    "import random\n",
    "\n",
    "kick = [random.choice([True, False]) for _ in range(16)]\n",
    "snare = [random.choice([True, False]) for _ in range(16)]\n",
    "charles = [random.choice([True, False]) for _ in range(16)]\n",
    "\n",
    "user_input = [kick, snare, charles]\n",
    "print(user_input)\n",
    "\n",
    "\n",
    "\n",
    "\n",
    "\n"
   ]
  },
  {
   "cell_type": "code",
   "execution_count": 32,
   "id": "668dbe0a",
   "metadata": {},
   "outputs": [
    {
     "name": "stdout",
     "output_type": "stream",
     "text": [
      "[['r', '_', '36', 'r', '_', '36', 'r', '36', '36', '36', '36', '36', '36', '36', '36', '36'], ['r', '38', 'r', '_', '38', 'r', '_', '38', '38', '38', '38', 'r', '_', '38', '38', '38'], ['r', '_', '42', '42', '42', 'r', '42', '42', '42', 'r', '42', '42', 'r', '42', '42', '42']]\n"
     ]
    }
   ],
   "source": [
    "def translate_input(user_input):\n",
    "    \n",
    "    \n",
    "    #Create simbols:\n",
    "    send_kick_data = []\n",
    "    send_snare_data = []\n",
    "    send_charles_data = []\n",
    "    for lista, sound in enumerate(user_input):\n",
    "        for index, data in enumerate(sound):\n",
    "            if lista == 0:\n",
    "                if data == True:\n",
    "                    send_kick_data.append(\"36\")\n",
    "                else:\n",
    "                    send_kick_data.append(\"r\")\n",
    "            elif lista == 1:\n",
    "                if data == True:\n",
    "                    send_snare_data.append(\"38\")\n",
    "                else:\n",
    "                    send_snare_data.append(\"r\")\n",
    "            elif lista == 2:\n",
    "                if data == True:\n",
    "                    send_charles_data.append(\"42\")\n",
    "                else:\n",
    "                    send_charles_data.append(\"r\")\n",
    "                    \n",
    "    user_input = [send_kick_data, send_snare_data, send_charles_data]\n",
    "\n",
    "    \n",
    "    #Create underscores\"_\"\n",
    "    modified_input = []\n",
    "    for lista in user_input:\n",
    "        modified_lista = []\n",
    "        prev_element = None\n",
    "        count_r = 0\n",
    "\n",
    "        for element in lista:\n",
    "            if element == \"r\":\n",
    "                count_r += 1\n",
    "                if count_r == 1:\n",
    "                    modified_lista.append(element)\n",
    "                else:\n",
    "                    modified_lista.append(\"_\")\n",
    "            else:\n",
    "                modified_lista.append(element)\n",
    "                count_r = 0\n",
    "\n",
    "        modified_input.append(modified_lista)\n",
    "\n",
    "    return modified_input\n",
    "\n",
    "user_input = translate_input(user_input)\n",
    "print(user_input)"
   ]
  },
  {
   "cell_type": "code",
   "execution_count": 27,
   "id": "6070f0ae",
   "metadata": {},
   "outputs": [],
   "source": [
    "mapping={\"36\":0, \"_\":1,\"r\":2,\"38\":3,\"42\":4}"
   ]
  },
  {
   "cell_type": "code",
   "execution_count": 28,
   "id": "b903bc23",
   "metadata": {},
   "outputs": [
    {
     "name": "stdout",
     "output_type": "stream",
     "text": [
      "['r', '36', 'r', '36', 'r', '36', 'r', '_', '36', 'r', '36', '36', 'r', '_', '_', '36']\n"
     ]
    }
   ],
   "source": [
    "print(user_input[0])"
   ]
  },
  {
   "cell_type": "code",
   "execution_count": 29,
   "id": "0e239169",
   "metadata": {},
   "outputs": [
    {
     "name": "stdout",
     "output_type": "stream",
     "text": [
      "[2, 0, 2, 0, 2, 0, 2, 1, 0, 2, 0, 0, 2, 1, 1, 0]\n"
     ]
    }
   ],
   "source": [
    "int_songs=[]\n",
    "for symbol in user_input[0]:\n",
    "    int_songs.append(mapping[symbol])\n",
    "print(int_songs)"
   ]
  },
  {
   "cell_type": "code",
   "execution_count": 38,
   "id": "133b41e6",
   "metadata": {},
   "outputs": [
    {
     "name": "stdout",
     "output_type": "stream",
     "text": [
      "[[2, 1, 0, 2, 1, 0, 2, 0, 0, 0, 0, 0, 0, 0, 0, 0], [2, 3, 2, 1, 3, 2, 1, 3, 3, 3, 3, 2, 1, 3, 3, 3], [2, 1, 4, 4, 4, 2, 4, 4, 4, 2, 4, 4, 2, 4, 4, 4]]\n"
     ]
    }
   ],
   "source": [
    "int_songs2 = [[],[],[]] \n",
    "for index, instrument in enumerate(user_input):\n",
    "    for symbol in instrument:\n",
    "        int_songs2[index].append(mapping[symbol])\n",
    "        \n",
    "print(int_songs2)"
   ]
  },
  {
   "cell_type": "code",
   "execution_count": null,
   "id": "0284e8fd",
   "metadata": {},
   "outputs": [],
   "source": []
  },
  {
   "cell_type": "code",
   "execution_count": 39,
   "id": "46f0f9c8",
   "metadata": {},
   "outputs": [],
   "source": [
    "def translate_input(user_input):\n",
    "\n",
    "    #Create simbols:  In a future cambiar por una llamada a un mapping\n",
    "    send_kick_data = []\n",
    "    send_snare_data = []\n",
    "    send_charles_data = []\n",
    "    for lista, sound in enumerate(user_input):\n",
    "        for index, data in enumerate(sound):\n",
    "            if lista == 0:\n",
    "                if data == True:\n",
    "                    send_kick_data.append(\"36\")\n",
    "                else:\n",
    "                    send_kick_data.append(\"r\")\n",
    "            elif lista == 1:\n",
    "                if data == True:\n",
    "                    send_snare_data.append(\"38\")\n",
    "                else:\n",
    "                    send_snare_data.append(\"r\")\n",
    "            elif lista == 2:\n",
    "                if data == True:\n",
    "                    send_charles_data.append(\"42\")\n",
    "                else:\n",
    "                    send_charles_data.append(\"r\")\n",
    "\n",
    "    user_input = [send_kick_data, send_snare_data, send_charles_data]\n",
    "\n",
    "\n",
    "    #Create underscores\"_\"\n",
    "    modified_input = []\n",
    "    for lista in user_input:\n",
    "        modified_lista = []\n",
    "        prev_element = None\n",
    "        count_r = 0\n",
    "\n",
    "        for element in lista:\n",
    "            if element == \"r\":\n",
    "                count_r += 1\n",
    "                if count_r == 1:\n",
    "                    modified_lista.append(element)\n",
    "                else:\n",
    "                    modified_lista.append(\"_\")\n",
    "            else:\n",
    "                modified_lista.append(element)\n",
    "                count_r = 0\n",
    "\n",
    "        modified_input.append(modified_lista)\n",
    "\n",
    "    return modified_input"
   ]
  },
  {
   "cell_type": "code",
   "execution_count": 47,
   "id": "c5bf393c",
   "metadata": {},
   "outputs": [],
   "source": [
    "import os\n",
    "import json\n",
    "\n",
    "def map_seed(seed,mapping):\n",
    "\n",
    "    mapping=mapping\n",
    "\n",
    "    int_songs2 = [[],[],[]]\n",
    "    for index, instrument in enumerate(seed):\n",
    "        for symbol in instrument:\n",
    "            int_songs2[index].append(mapping[symbol])\n",
    "\n",
    "    return int_songs2\n"
   ]
  },
  {
   "cell_type": "code",
   "execution_count": 48,
   "id": "1951b0d7",
   "metadata": {},
   "outputs": [],
   "source": [
    "user_input3=[[False, False, True, False, False, True, False, True, True, True, True, True, True, True, True, True], [False, True, False, False, True, False, False, True, True, True, True, False, False, True, True, True], [False, False, True, True, True, False, True, True, True, False, True, True, False, True, True, True]]"
   ]
  },
  {
   "cell_type": "code",
   "execution_count": 49,
   "id": "4ff10e48",
   "metadata": {},
   "outputs": [],
   "source": [
    "mapping={\"36\":0, \"_\":1,\"r\":2,\"38\":3,\"42\":4}"
   ]
  },
  {
   "cell_type": "code",
   "execution_count": 61,
   "id": "dbf2ba7d",
   "metadata": {},
   "outputs": [
    {
     "name": "stdout",
     "output_type": "stream",
     "text": [
      "[[2, 1, 0, 2, 1, 0, 2, 0, 0, 0, 0, 0, 0, 0, 0, 0], [2, 3, 2, 1, 3, 2, 1, 3, 3, 3, 3, 2, 1, 3, 3, 3], [2, 1, 4, 4, 4, 2, 4, 4, 4, 2, 4, 4, 2, 4, 4, 4]]\n"
     ]
    }
   ],
   "source": [
    "seed=translate_input(user_input3)\n",
    "seed_mapped=map_seed(seed,mapping)\n",
    "print(seed_mapped)"
   ]
  },
  {
   "cell_type": "code",
   "execution_count": 54,
   "id": "c6296fe3",
   "metadata": {},
   "outputs": [],
   "source": [
    "import keras"
   ]
  },
  {
   "cell_type": "code",
   "execution_count": null,
   "id": "12022820",
   "metadata": {},
   "outputs": [],
   "source": [
    "seed_mapped=[[2, 1, 0, 2, 1, 0, 2, 0, 0, 0, 0, 0, 0, 0, 0, 0], [2, 3, 2, 1, 3, 2, 1, 3, 3, 3, 3, 2, 1, 3, 3, 3], [2, 1, 4, 4, 4, 2, 4, 4, 4, 2, 4, 4, 2, 4, 4, 4]]"
   ]
  },
  {
   "cell_type": "code",
   "execution_count": 64,
   "id": "f0a57125",
   "metadata": {},
   "outputs": [],
   "source": [
    "import numpy as np\n",
    "for instrument in seed_mapped:\n",
    "    # Convertir la lista a un array de numpy\n",
    "    instrument_array = np.array(instrument)\n",
    "    \n",
    "    # Obtener el número de clases\n",
    "    num_classes = len(mapping)\n",
    "    \n",
    "    # Realizar el One-Hot Encoding\n",
    "    onehot_encoded = np.eye(num_classes)[instrument_array]\n",
    "    \n",
    "    # Agregar el resultado a la lista\n",
    "    onehot_seeds.append(onehot_encoded)\n",
    "\n",
    "\n",
    "            "
   ]
  },
  {
   "cell_type": "code",
   "execution_count": 102,
   "id": "df1569f1",
   "metadata": {},
   "outputs": [],
   "source": [
    "seed_ohe=[[],[],[]]\n",
    "for index,instrument in enumerate(seed_mapped):\n",
    "    for element in instrument:\n",
    "        seed_ohe[index].append(keras.utils.to_categorical(element,num_classes=len(mapping), dtype=\"int32\"))\n",
    "seed_ohe=np.array([seed_ohe])\n"
   ]
  },
  {
   "cell_type": "code",
   "execution_count": 103,
   "id": "b7b22d55",
   "metadata": {},
   "outputs": [
    {
     "data": {
      "text/plain": [
       "(1, 3, 16, 5)"
      ]
     },
     "execution_count": 103,
     "metadata": {},
     "output_type": "execute_result"
    }
   ],
   "source": [
    "seed_ohe.shape"
   ]
  },
  {
   "cell_type": "code",
   "execution_count": 104,
   "id": "da9dde4e",
   "metadata": {},
   "outputs": [],
   "source": [
    "seed_ohe=np.transpose(seed_ohe,(0,2,1,3))   "
   ]
  },
  {
   "cell_type": "code",
   "execution_count": 105,
   "id": "7176d567",
   "metadata": {},
   "outputs": [
    {
     "data": {
      "text/plain": [
       "(1, 16, 3, 5)"
      ]
     },
     "execution_count": 105,
     "metadata": {},
     "output_type": "execute_result"
    }
   ],
   "source": [
    "seed_ohe.shape"
   ]
  },
  {
   "cell_type": "code",
   "execution_count": 106,
   "id": "4d1b65ba",
   "metadata": {},
   "outputs": [],
   "source": [
    "d0,d1,d2,d3=seed_ohe.shape"
   ]
  },
  {
   "cell_type": "code",
   "execution_count": 107,
   "id": "4ef5b929",
   "metadata": {},
   "outputs": [],
   "source": [
    "seed_ohe=np.reshape(seed_ohe,(d0,d1,d2*d3))"
   ]
  },
  {
   "cell_type": "code",
   "execution_count": 108,
   "id": "c35762e4",
   "metadata": {},
   "outputs": [
    {
     "data": {
      "text/plain": [
       "(1, 16, 15)"
      ]
     },
     "execution_count": 108,
     "metadata": {},
     "output_type": "execute_result"
    }
   ],
   "source": [
    "seed_ohe.shape"
   ]
  },
  {
   "cell_type": "code",
   "execution_count": 109,
   "id": "68a45ae5",
   "metadata": {},
   "outputs": [
    {
     "data": {
      "text/plain": [
       "(1, 16, 15)"
      ]
     },
     "execution_count": 109,
     "metadata": {},
     "output_type": "execute_result"
    }
   ],
   "source": [
    "#OHE AND RESHAPE\n",
    "#OHE\n",
    "seed_ohe=[[],[],[]]\n",
    "for index,instrument in enumerate(seed_mapped):\n",
    "    for element in instrument:\n",
    "        seed_ohe[index].append(keras.utils.to_categorical(element,num_classes=len(mapping), dtype=\"int32\"))\n",
    "seed_ohe=np.array([seed_ohe])\n",
    "\n",
    "#RESHAPE\n",
    "seed_ohe=np.transpose(seed_ohe,(0,2,1,3))\n",
    "d0,d1,d2,d3=seed_ohe.shape\n",
    "seed_ohe=np.reshape(seed_ohe,(d0,d1,d2*d3))\n",
    "seed_ohe.shape\n"
   ]
  },
  {
   "cell_type": "code",
   "execution_count": null,
   "id": "85688887",
   "metadata": {},
   "outputs": [],
   "source": [
    "#Probar re-encoding a r,_r_34,_\n",
    "\n"
   ]
  },
  {
   "cell_type": "code",
   "execution_count": 144,
   "id": "541725eb",
   "metadata": {},
   "outputs": [
    {
     "name": "stdout",
     "output_type": "stream",
     "text": [
      "(1, 16, 5)\n"
     ]
    }
   ],
   "source": [
    "#Simulamos Output:: \n",
    "import numpy as np\n",
    "\n",
    "np.random.seed(123)  # Establecer la semilla para reproducibilidad\n",
    "\n",
    "array = np.random.dirichlet([1, 1, 1, 1, 1], size=(1, 16))\n",
    "array = array[..., np.newaxis]\n",
    "array = np.squeeze(array)\n",
    "array=np.array([array])\n",
    "print(array.shape)    #1 secuencia, 16 observaciones, 5 vocabularios"
   ]
  },
  {
   "cell_type": "code",
   "execution_count": 153,
   "id": "be2d6829",
   "metadata": {},
   "outputs": [
    {
     "name": "stdout",
     "output_type": "stream",
     "text": [
      "4\n",
      "1\n",
      "1\n",
      "0\n",
      "1\n",
      "4\n",
      "3\n",
      "3\n",
      "4\n",
      "2\n",
      "1\n",
      "3\n",
      "4\n",
      "1\n",
      "1\n",
      "4\n"
     ]
    }
   ],
   "source": [
    "max_indices= np.argmax(array[0],axis=1)\n",
    "\n",
    "for index in range(0,16):\n",
    "    print(max_indices[index])"
   ]
  },
  {
   "cell_type": "code",
   "execution_count": 145,
   "id": "8a90fb6b",
   "metadata": {},
   "outputs": [],
   "source": [
    "mapping={\"36\":0, \"_\":1,\"r\":2,\"38\":3,\"42\":4}"
   ]
  },
  {
   "cell_type": "code",
   "execution_count": 159,
   "id": "a6b37837",
   "metadata": {},
   "outputs": [],
   "source": [
    "outputs=[]\n",
    "for observation in max_indices:\n",
    "    output_symbol = [k for k, v in mapping.items() if v == observation]\n",
    "    outputs.append(output_symbol)\n",
    "   "
   ]
  },
  {
   "cell_type": "code",
   "execution_count": 161,
   "id": "2d2b3042",
   "metadata": {},
   "outputs": [
    {
     "data": {
      "text/plain": [
       "[['42'],\n",
       " ['_'],\n",
       " ['_'],\n",
       " ['36'],\n",
       " ['_'],\n",
       " ['42'],\n",
       " ['38'],\n",
       " ['38'],\n",
       " ['42'],\n",
       " ['r'],\n",
       " ['_'],\n",
       " ['38'],\n",
       " ['42'],\n",
       " ['_'],\n",
       " ['_'],\n",
       " ['42']]"
      ]
     },
     "execution_count": 161,
     "metadata": {},
     "output_type": "execute_result"
    }
   ],
   "source": [
    "\n",
    "outputs"
   ]
  },
  {
   "cell_type": "code",
   "execution_count": 148,
   "id": "3eb0b581",
   "metadata": {},
   "outputs": [
    {
     "name": "stdout",
     "output_type": "stream",
     "text": [
      "[[['36' '36' '36' '36' '36']\n",
      "  ['36' '_' '36' '36' '36']\n",
      "  ['36' '36' '36' '36' '36']\n",
      "  ['36' '36' '36' '36' '36']\n",
      "  ['36' '36' '36' '36' '36']\n",
      "  ['36' '36' '36' '36' '36']\n",
      "  ['36' '36' '36' '36' '36']\n",
      "  ['36' '36' '36' '36' '36']\n",
      "  ['36' '36' '36' '36' '36']\n",
      "  ['36' '36' '_' '36' '36']\n",
      "  ['36' '36' '36' '36' '36']\n",
      "  ['36' '36' '36' '36' '36']\n",
      "  ['36' '36' '36' '36' '36']\n",
      "  ['36' '_' '36' '36' '36']\n",
      "  ['36' '36' '36' '36' '36']\n",
      "  ['36' '36' '36' '36' '36']]]\n"
     ]
    }
   ],
   "source": [
    "rounded_array = np.round(array).astype(int)\n",
    "\n",
    "translate_func = np.vectorize(lambda x: next((k for k, v in mapping.items() if v == x), None))\n",
    "translated_array = translate_func(rounded_array)\n",
    "\n",
    "print(translated_array)"
   ]
  },
  {
   "cell_type": "code",
   "execution_count": null,
   "id": "c29b6551",
   "metadata": {},
   "outputs": [],
   "source": []
  },
  {
   "cell_type": "code",
   "execution_count": 110,
   "id": "e00ef79b",
   "metadata": {},
   "outputs": [],
   "source": [
    "#Probar temperatura:"
   ]
  },
  {
   "cell_type": "code",
   "execution_count": 139,
   "id": "bdec46f3",
   "metadata": {},
   "outputs": [],
   "source": [
    "def _sample_with_temperature(probabilites, temperature):\n",
    "        \"\"\"Samples an index from a probability array reapplying softmax using temperature\n",
    "\n",
    "        :param predictions (nd.array): Array containing probabilities for each of the possible outputs.\n",
    "        :param temperature (float): Float in interval [0, 1]. Numbers closer to 0 make the model more deterministic.\n",
    "            A number closer to 1 makes the generation more unpredictable.\n",
    "\n",
    "        :return index (int): Selected output symbol\n",
    "        \"\"\"\n",
    "        predictions = np.log(probabilites) / temperature\n",
    "        probabilites = np.exp(predictions) / np.sum(np.exp(predictions))\n",
    "\n",
    "        choices = range(len(probabilites)) # [0, 1, 2, 3]\n",
    "        index = np.random.choice(choices, p=probabilites)\n",
    "\n",
    "        return index"
   ]
  },
  {
   "cell_type": "code",
   "execution_count": 140,
   "id": "f6a3893e",
   "metadata": {},
   "outputs": [],
   "source": [
    "#Output \n",
    "output= np.random.rand(1, 16, 5)   #una secuencia, longitud secuencia, length diccionario"
   ]
  },
  {
   "cell_type": "code",
   "execution_count": 141,
   "id": "2e5f2d7a",
   "metadata": {},
   "outputs": [
    {
     "name": "stdout",
     "output_type": "stream",
     "text": [
      "(1, 16, 5)\n"
     ]
    }
   ],
   "source": [
    "import numpy as np\n",
    "\n",
    "np.random.seed(123)  # Establecer la semilla para reproducibilidad\n",
    "\n",
    "array = np.random.dirichlet([1, 1, 1, 1, 1], size=(1, 16))\n",
    "array = array[..., np.newaxis]\n",
    "array = np.squeeze(array)\n",
    "array=np.array([array])\n",
    "print(array.shape)\n"
   ]
  },
  {
   "cell_type": "code",
   "execution_count": 142,
   "id": "9026b965",
   "metadata": {},
   "outputs": [
    {
     "name": "stdout",
     "output_type": "stream",
     "text": [
      "[[1. 1. 1. 1. 1. 1. 1. 1. 1. 1. 1. 1. 1. 1. 1. 1.]]\n"
     ]
    }
   ],
   "source": [
    "sum_result = np.sum(array, axis=2)  #conprobamos que la suma da 1\n",
    "print(sum_result)"
   ]
  },
  {
   "cell_type": "code",
   "execution_count": 143,
   "id": "d530213f",
   "metadata": {},
   "outputs": [
    {
     "ename": "ValueError",
     "evalue": "'p' must be 1-dimensional",
     "output_type": "error",
     "traceback": [
      "\u001b[0;31m---------------------------------------------------------------------------\u001b[0m",
      "\u001b[0;31mValueError\u001b[0m                                Traceback (most recent call last)",
      "Cell \u001b[0;32mIn [143], line 2\u001b[0m\n\u001b[1;32m      1\u001b[0m temperature\u001b[38;5;241m=\u001b[39m\u001b[38;5;241m1\u001b[39m\n\u001b[0;32m----> 2\u001b[0m prob_with_temp\u001b[38;5;241m=\u001b[39m\u001b[43m_sample_with_temperature\u001b[49m\u001b[43m(\u001b[49m\u001b[43marray\u001b[49m\u001b[43m,\u001b[49m\u001b[43mtemperature\u001b[49m\u001b[43m)\u001b[49m\n",
      "Cell \u001b[0;32mIn [139], line 14\u001b[0m, in \u001b[0;36m_sample_with_temperature\u001b[0;34m(probabilites, temperature)\u001b[0m\n\u001b[1;32m     11\u001b[0m probabilites \u001b[38;5;241m=\u001b[39m np\u001b[38;5;241m.\u001b[39mexp(predictions) \u001b[38;5;241m/\u001b[39m np\u001b[38;5;241m.\u001b[39msum(np\u001b[38;5;241m.\u001b[39mexp(predictions))\n\u001b[1;32m     13\u001b[0m choices \u001b[38;5;241m=\u001b[39m \u001b[38;5;28mrange\u001b[39m(\u001b[38;5;28mlen\u001b[39m(probabilites)) \u001b[38;5;66;03m# [0, 1, 2, 3]\u001b[39;00m\n\u001b[0;32m---> 14\u001b[0m index \u001b[38;5;241m=\u001b[39m \u001b[43mnp\u001b[49m\u001b[38;5;241;43m.\u001b[39;49m\u001b[43mrandom\u001b[49m\u001b[38;5;241;43m.\u001b[39;49m\u001b[43mchoice\u001b[49m\u001b[43m(\u001b[49m\u001b[43mchoices\u001b[49m\u001b[43m,\u001b[49m\u001b[43m \u001b[49m\u001b[43mp\u001b[49m\u001b[38;5;241;43m=\u001b[39;49m\u001b[43mprobabilites\u001b[49m\u001b[43m)\u001b[49m\n\u001b[1;32m     16\u001b[0m \u001b[38;5;28;01mreturn\u001b[39;00m index\n",
      "File \u001b[0;32mmtrand.pyx:930\u001b[0m, in \u001b[0;36mnumpy.random.mtrand.RandomState.choice\u001b[0;34m()\u001b[0m\n",
      "\u001b[0;31mValueError\u001b[0m: 'p' must be 1-dimensional"
     ]
    }
   ],
   "source": [
    "temperature=1\n",
    "prob_with_temp=_sample_with_temperature(array,temperature)"
   ]
  },
  {
   "cell_type": "code",
   "execution_count": null,
   "id": "dfef6fce",
   "metadata": {},
   "outputs": [],
   "source": []
  }
 ],
 "metadata": {
  "kernelspec": {
   "display_name": "Python 3 (ipykernel)",
   "language": "python",
   "name": "python3"
  },
  "language_info": {
   "codemirror_mode": {
    "name": "ipython",
    "version": 3
   },
   "file_extension": ".py",
   "mimetype": "text/x-python",
   "name": "python",
   "nbconvert_exporter": "python",
   "pygments_lexer": "ipython3",
   "version": "3.10.6"
  },
  "toc": {
   "base_numbering": 1,
   "nav_menu": {},
   "number_sections": true,
   "sideBar": true,
   "skip_h1_title": false,
   "title_cell": "Table of Contents",
   "title_sidebar": "Contents",
   "toc_cell": false,
   "toc_position": {},
   "toc_section_display": true,
   "toc_window_display": false
  }
 },
 "nbformat": 4,
 "nbformat_minor": 5
}
