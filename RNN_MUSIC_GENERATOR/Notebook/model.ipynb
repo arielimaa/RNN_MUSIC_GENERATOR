{
 "cells": [
  {
   "cell_type": "code",
   "execution_count": 15,
   "metadata": {},
   "outputs": [],
   "source": [
    "import sys \n",
    "sys.path.insert(0,\"/home/miguimorell/code/miguimorell/RNN_MUSIC_GENERATOR/\")\n",
    "import processing\n",
    "from processing import process_data\n",
    "\n"
   ]
  },
  {
   "cell_type": "code",
   "execution_count": 17,
   "metadata": {},
   "outputs": [
    {
     "ename": "TypeError",
     "evalue": "expected str, bytes or os.PathLike object, not NoneType",
     "output_type": "error",
     "traceback": [
      "\u001b[0;31m---------------------------------------------------------------------------\u001b[0m",
      "\u001b[0;31mTypeError\u001b[0m                                 Traceback (most recent call last)",
      "\u001b[1;32m/home/miguimorell/code/miguimorell/RNN_MUSIC_GENERATOR/RNN_MUSIC_GENERATOR/Notebook/model.ipynb Cell 2\u001b[0m in \u001b[0;36m1\n\u001b[1;32m     <a href='vscode-notebook-cell://wsl%2Bubuntu/home/miguimorell/code/miguimorell/RNN_MUSIC_GENERATOR/RNN_MUSIC_GENERATOR/Notebook/model.ipynb#W2sdnNjb2RlLXJlbW90ZQ%3D%3D?line=89'>90</a>\u001b[0m     \u001b[39m#np.set_printoptions(threshold=np.inf)\u001b[39;00m\n\u001b[1;32m     <a href='vscode-notebook-cell://wsl%2Bubuntu/home/miguimorell/code/miguimorell/RNN_MUSIC_GENERATOR/RNN_MUSIC_GENERATOR/Notebook/model.ipynb#W2sdnNjb2RlLXJlbW90ZQ%3D%3D?line=90'>91</a>\u001b[0m     \u001b[39m#save_path = os.path.join(ENCODED_PATH_INT, 'FEATURES.txt')\u001b[39;00m\n\u001b[1;32m     <a href='vscode-notebook-cell://wsl%2Bubuntu/home/miguimorell/code/miguimorell/RNN_MUSIC_GENERATOR/RNN_MUSIC_GENERATOR/Notebook/model.ipynb#W2sdnNjb2RlLXJlbW90ZQ%3D%3D?line=91'>92</a>\u001b[0m     \u001b[39m#with open(save_path, \"w\") as fp:\u001b[39;00m\n\u001b[0;32m   (...)\u001b[0m\n\u001b[1;32m    <a href='vscode-notebook-cell://wsl%2Bubuntu/home/miguimorell/code/miguimorell/RNN_MUSIC_GENERATOR/RNN_MUSIC_GENERATOR/Notebook/model.ipynb#W2sdnNjb2RlLXJlbW90ZQ%3D%3D?line=100'>101</a>\u001b[0m     \u001b[39m#        fp.write(str(values))\u001b[39;00m\n\u001b[1;32m    <a href='vscode-notebook-cell://wsl%2Bubuntu/home/miguimorell/code/miguimorell/RNN_MUSIC_GENERATOR/RNN_MUSIC_GENERATOR/Notebook/model.ipynb#W2sdnNjb2RlLXJlbW90ZQ%3D%3D?line=101'>102</a>\u001b[0m     \u001b[39m#        fp.write('\\n')\u001b[39;00m\n\u001b[1;32m    <a href='vscode-notebook-cell://wsl%2Bubuntu/home/miguimorell/code/miguimorell/RNN_MUSIC_GENERATOR/RNN_MUSIC_GENERATOR/Notebook/model.ipynb#W2sdnNjb2RlLXJlbW90ZQ%3D%3D?line=103'>104</a>\u001b[0m \u001b[39mif\u001b[39;00m \u001b[39m__name__\u001b[39m \u001b[39m==\u001b[39m \u001b[39m\"\u001b[39m\u001b[39m__main__\u001b[39m\u001b[39m\"\u001b[39m:\n\u001b[0;32m--> <a href='vscode-notebook-cell://wsl%2Bubuntu/home/miguimorell/code/miguimorell/RNN_MUSIC_GENERATOR/RNN_MUSIC_GENERATOR/Notebook/model.ipynb#W2sdnNjb2RlLXJlbW90ZQ%3D%3D?line=104'>105</a>\u001b[0m     process_data()\n",
      "\u001b[1;32m/home/miguimorell/code/miguimorell/RNN_MUSIC_GENERATOR/RNN_MUSIC_GENERATOR/Notebook/model.ipynb Cell 2\u001b[0m in \u001b[0;36m2\n\u001b[1;32m     <a href='vscode-notebook-cell://wsl%2Bubuntu/home/miguimorell/code/miguimorell/RNN_MUSIC_GENERATOR/RNN_MUSIC_GENERATOR/Notebook/model.ipynb#W2sdnNjb2RlLXJlbW90ZQ%3D%3D?line=23'>24</a>\u001b[0m \u001b[39mdef\u001b[39;00m \u001b[39mprocess_data\u001b[39m():\n\u001b[0;32m---> <a href='vscode-notebook-cell://wsl%2Bubuntu/home/miguimorell/code/miguimorell/RNN_MUSIC_GENERATOR/RNN_MUSIC_GENERATOR/Notebook/model.ipynb#W2sdnNjb2RlLXJlbW90ZQ%3D%3D?line=25'>26</a>\u001b[0m     songs,files_name \u001b[39m=\u001b[39m load_songs(DATASET_PATH)\n\u001b[1;32m     <a href='vscode-notebook-cell://wsl%2Bubuntu/home/miguimorell/code/miguimorell/RNN_MUSIC_GENERATOR/RNN_MUSIC_GENERATOR/Notebook/model.ipynb#W2sdnNjb2RlLXJlbW90ZQ%3D%3D?line=27'>28</a>\u001b[0m     \u001b[39m#generate encoded files\u001b[39;00m\n\u001b[1;32m     <a href='vscode-notebook-cell://wsl%2Bubuntu/home/miguimorell/code/miguimorell/RNN_MUSIC_GENERATOR/RNN_MUSIC_GENERATOR/Notebook/model.ipynb#W2sdnNjb2RlLXJlbW90ZQ%3D%3D?line=28'>29</a>\u001b[0m     create_encoded_files(songs,files_name,ENCODED_PATH)\n",
      "File \u001b[0;32m~/code/miguimorell/RNN_MUSIC_GENERATOR/RNN_MUSIC_GENERATOR/Processing_NEW/load_songs.py:14\u001b[0m, in \u001b[0;36mload_songs\u001b[0;34m(dataset_path)\u001b[0m\n\u001b[1;32m     11\u001b[0m files_name \u001b[39m=\u001b[39m []\n\u001b[1;32m     13\u001b[0m \u001b[39m# go through all the files in dataset and load them with music21\u001b[39;00m\n\u001b[0;32m---> 14\u001b[0m \u001b[39mfor\u001b[39;00m path, _, files \u001b[39min\u001b[39;00m os\u001b[39m.\u001b[39;49mwalk(dataset_path):\n\u001b[1;32m     15\u001b[0m     \u001b[39mfor\u001b[39;00m file \u001b[39min\u001b[39;00m files:\n\u001b[1;32m     16\u001b[0m         \u001b[39mif\u001b[39;00m file[\u001b[39m-\u001b[39m\u001b[39m3\u001b[39m:] \u001b[39m==\u001b[39m \u001b[39m\"\u001b[39m\u001b[39mmid\u001b[39m\u001b[39m\"\u001b[39m:\n",
      "File \u001b[0;32m~/.pyenv/versions/3.10.6/lib/python3.10/os.py:342\u001b[0m, in \u001b[0;36mwalk\u001b[0;34m(top, topdown, onerror, followlinks)\u001b[0m\n\u001b[1;32m    283\u001b[0m \u001b[39m\"\"\"Directory tree generator.\u001b[39;00m\n\u001b[1;32m    284\u001b[0m \n\u001b[1;32m    285\u001b[0m \u001b[39mFor each directory in the directory tree rooted at top (including top\u001b[39;00m\n\u001b[0;32m   (...)\u001b[0m\n\u001b[1;32m    339\u001b[0m \n\u001b[1;32m    340\u001b[0m \u001b[39m\"\"\"\u001b[39;00m\n\u001b[1;32m    341\u001b[0m sys\u001b[39m.\u001b[39maudit(\u001b[39m\"\u001b[39m\u001b[39mos.walk\u001b[39m\u001b[39m\"\u001b[39m, top, topdown, onerror, followlinks)\n\u001b[0;32m--> 342\u001b[0m \u001b[39mreturn\u001b[39;00m _walk(fspath(top), topdown, onerror, followlinks)\n",
      "\u001b[0;31mTypeError\u001b[0m: expected str, bytes or os.PathLike object, not NoneType"
     ]
    }
   ],
   "source": [
    "X_train, y_train=process_data()"
   ]
  },
  {
   "attachments": {},
   "cell_type": "markdown",
   "metadata": {},
   "source": []
  }
 ],
 "metadata": {
  "kernelspec": {
   "display_name": "Python 3",
   "language": "python",
   "name": "python3"
  },
  "language_info": {
   "codemirror_mode": {
    "name": "ipython",
    "version": 3
   },
   "file_extension": ".py",
   "mimetype": "text/x-python",
   "name": "python",
   "nbconvert_exporter": "python",
   "pygments_lexer": "ipython3",
   "version": "3.10.6"
  },
  "orig_nbformat": 4
 },
 "nbformat": 4,
 "nbformat_minor": 2
}
