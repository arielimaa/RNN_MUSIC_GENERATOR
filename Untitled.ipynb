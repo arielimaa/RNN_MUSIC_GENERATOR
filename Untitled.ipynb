{
 "cells": [
  {
   "cell_type": "code",
   "execution_count": 8,
   "id": "22adfea3",
   "metadata": {},
   "outputs": [
    {
     "name": "stdout",
     "output_type": "stream",
     "text": [
      "[[True, False, False, False, True, True, False, True, False, False, True, False, False, True, False, True], [False, False, True, True, True, True, True, False, True, False, False, True, True, True, False, True], [True, True, True, False, False, True, False, True, False, True, True, True, False, True, False, True]]\n"
     ]
    }
   ],
   "source": [
    "import random\n",
    "\n",
    "kick = [random.choice([True, False]) for _ in range(16)]\n",
    "snare = [random.choice([True, False]) for _ in range(16)]\n",
    "charles = [random.choice([True, False]) for _ in range(16)]\n",
    "\n",
    "\n",
    "user_input=[kick,snare,charles]\n",
    "print(user_input)"
   ]
  },
  {
   "cell_type": "code",
   "execution_count": 7,
   "id": "8e877708",
   "metadata": {},
   "outputs": [],
   "source": [
    "import random\n",
    "\n",
    "kick = [random.choice([True, False]) for _ in range(16)]\n",
    "snare = [random.choice([True, False]) for _ in range(16)]\n",
    "charles = [random.choice([True, False]) for _ in range(16)]\n",
    "\n",
    "\n",
    "user_input=[kick,snare,charles]\n",
    "print(user_input)\n",
    "\n",
    "def translate_input(user_input):\n",
    "    send_kick_data=[]\n",
    "    send_snare_data=[]\n",
    "    send_charles_data=[]\n",
    "    for lista, sound in enumerate(input):\n",
    "        for index, data in enumerate(sound):\n",
    "            if lista==0:\n",
    "                if data==True:\n",
    "                    send_kick_data.append(\"36\")\n",
    "                elif data==False:\n",
    "                    send_kick_data.append(\"r\")\n",
    "            elif lista==1:\n",
    "                if data==True:\n",
    "                    send_snare_data.append(\"38\")\n",
    "                else:\n",
    "                    send_snare_data.append(\"r\")\n",
    "            elif lista==2:\n",
    "                if data==True:\n",
    "                    send_charles_data.append(\"42\")\n",
    "                else:\n",
    "                    send_charles_data.append(\"r\")\n",
    "                    \n",
    "    user_input=[send_kick_data,send_snare_data,send_charles_data]\n",
    "\n",
    "\n",
    "    return user_input\n",
    "\n",
    "def underscore_input(user_input):\n",
    "    modified_lista = []\n",
    "    prev_element = None\n",
    "    count_r = 0\n",
    "\n",
    "    for element in input:\n",
    "        if element == \"r\":\n",
    "            count_r += 1\n",
    "            if count_r == 1:\n",
    "                modified_lista.append(element)\n",
    "            else:\n",
    "                modified_lista.append(\"_\")\n",
    "        else:\n",
    "            modified_lista.append(element)\n",
    "            count_r = 0\n",
    "\n",
    "    return modified_lista\n",
    "\n",
    "user_input=translate_input(user_input)\n",
    "user_input=underscore_input(user_input)\n",
    "print(user_input)"
   ]
  },
  {
   "cell_type": "code",
   "execution_count": 9,
   "id": "6a3130a6",
   "metadata": {},
   "outputs": [
    {
     "name": "stdout",
     "output_type": "stream",
     "text": [
      "[['36', 'r', 'r', 'r', '36', '36', 'r', '36', 'r', 'r', '36', 'r', 'r', '36', 'r', '36'], ['r', 'r', '38', '38', '38', '38', '38', 'r', '38', 'r', 'r', '38', '38', '38', 'r', '38'], ['42', '42', '42', 'r', 'r', '42', 'r', '42', 'r', '42', '42', '42', 'r', '42', 'r', '42']]\n"
     ]
    }
   ],
   "source": [
    "user_input=translate_input(user_input)\n",
    "user_input=underscore_input(user_input)\n",
    "print(user_input)"
   ]
  },
  {
   "cell_type": "code",
   "execution_count": 10,
   "id": "4a11acd3",
   "metadata": {},
   "outputs": [
    {
     "name": "stdout",
     "output_type": "stream",
     "text": [
      "[[True, True, True, False, True, False, True, True, False, True, False, False, True, True, False, False], [False, False, False, True, True, True, False, True, False, False, False, True, True, True, True, True], [False, True, True, False, True, True, False, False, False, True, False, True, False, True, True, False]]\n",
      "[['36', '36', '36', 'r', '36', 'r', '36', '36', 'r', '36', 'r', '_', '36', '36', 'r', '_'], ['r', '_', '_', '38', '38', '38', 'r', '38', 'r', '_', '_', '38', '38', '38', '38', '38'], ['r', '42', '42', 'r', '42', '42', 'r', '_', '_', '42', 'r', '42', 'r', '42', '42', 'r']]\n"
     ]
    }
   ],
   "source": [
    "import random\n",
    "\n",
    "kick = [random.choice([True, False]) for _ in range(16)]\n",
    "snare = [random.choice([True, False]) for _ in range(16)]\n",
    "charles = [random.choice([True, False]) for _ in range(16)]\n",
    "\n",
    "user_input = [kick, snare, charles]\n",
    "print(user_input)\n",
    "\n",
    "def translate_input(user_input):\n",
    "    send_kick_data = []\n",
    "    send_snare_data = []\n",
    "    send_charles_data = []\n",
    "    for lista, sound in enumerate(user_input):\n",
    "        for index, data in enumerate(sound):\n",
    "            if lista == 0:\n",
    "                if data == True:\n",
    "                    send_kick_data.append(\"36\")\n",
    "                else:\n",
    "                    send_kick_data.append(\"r\")\n",
    "            elif lista == 1:\n",
    "                if data == True:\n",
    "                    send_snare_data.append(\"38\")\n",
    "                else:\n",
    "                    send_snare_data.append(\"r\")\n",
    "            elif lista == 2:\n",
    "                if data == True:\n",
    "                    send_charles_data.append(\"42\")\n",
    "                else:\n",
    "                    send_charles_data.append(\"r\")\n",
    "                    \n",
    "    user_input = [send_kick_data, send_snare_data, send_charles_data]\n",
    "\n",
    "    return user_input\n",
    "\n",
    "def underscore_input(user_input):\n",
    "    modified_input = []\n",
    "    for lista in user_input:\n",
    "        modified_lista = []\n",
    "        prev_element = None\n",
    "        count_r = 0\n",
    "\n",
    "        for element in lista:\n",
    "            if element == \"r\":\n",
    "                count_r += 1\n",
    "                if count_r == 1:\n",
    "                    modified_lista.append(element)\n",
    "                else:\n",
    "                    modified_lista.append(\"_\")\n",
    "            else:\n",
    "                modified_lista.append(element)\n",
    "                count_r = 0\n",
    "\n",
    "        modified_input.append(modified_lista)\n",
    "\n",
    "    return modified_input\n",
    "\n",
    "user_input = translate_input(user_input)\n",
    "user_input = underscore_input(user_input)\n",
    "print(user_input)\n"
   ]
  },
  {
   "cell_type": "code",
   "execution_count": null,
   "id": "fb352e8f",
   "metadata": {},
   "outputs": [],
   "source": []
  }
 ],
 "metadata": {
  "kernelspec": {
   "display_name": "Python 3 (ipykernel)",
   "language": "python",
   "name": "python3"
  },
  "language_info": {
   "codemirror_mode": {
    "name": "ipython",
    "version": 3
   },
   "file_extension": ".py",
   "mimetype": "text/x-python",
   "name": "python",
   "nbconvert_exporter": "python",
   "pygments_lexer": "ipython3",
   "version": "3.10.6"
  },
  "toc": {
   "base_numbering": 1,
   "nav_menu": {},
   "number_sections": true,
   "sideBar": true,
   "skip_h1_title": false,
   "title_cell": "Table of Contents",
   "title_sidebar": "Contents",
   "toc_cell": false,
   "toc_position": {},
   "toc_section_display": true,
   "toc_window_display": false
  }
 },
 "nbformat": 4,
 "nbformat_minor": 5
}
